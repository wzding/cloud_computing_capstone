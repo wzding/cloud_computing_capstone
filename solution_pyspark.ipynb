{
 "cells": [
  {
   "cell_type": "code",
   "execution_count": 1,
   "metadata": {},
   "outputs": [],
   "source": [
    "from __future__ import print_function\n",
    "import sys\n",
    "import pandas as pd\n",
    "from pyspark import SparkContext"
   ]
  },
  {
   "cell_type": "markdown",
   "metadata": {},
   "source": [
    "### Q1.1 Rank the top 10 most popular airports by numbers of flights to/from the airport."
   ]
  },
  {
   "cell_type": "code",
   "execution_count": 170,
   "metadata": {},
   "outputs": [
    {
     "data": {
      "text/plain": [
       "[('ORD', 1542558),\n",
       " ('ATL', 1354423),\n",
       " ('DFW', 1276289),\n",
       " ('LAX', 945067),\n",
       " ('DEN', 863771),\n",
       " ('PHX', 753450),\n",
       " ('SFO', 723727),\n",
       " ('STL', 693935),\n",
       " ('EWR', 672607),\n",
       " ('DTW', 668154)]"
      ]
     },
     "execution_count": 170,
     "metadata": {},
     "output_type": "execute_result"
    }
   ],
   "source": [
    "file = sc.textFile('output1_1')\n",
    "popular = file.map(lambda line: line.split('\\t'))\\\n",
    "             .filter(lambda tuple: len(tuple) == 2)\\\n",
    "             .map(lambda tuple: (tuple[0], int(tuple[1]))).sortBy(lambda x: x[1], False)\n",
    "popular.take(10)"
   ]
  },
  {
   "cell_type": "markdown",
   "metadata": {},
   "source": [
    "### Q1.2 Rank the top 10 airlines by on-time arrival performance."
   ]
  },
  {
   "cell_type": "code",
   "execution_count": 171,
   "metadata": {},
   "outputs": [
    {
     "data": {
      "text/plain": [
       "[('9E', -3.99),\n",
       " ('OO', 0.8),\n",
       " ('HA', 1.04),\n",
       " ('PS', 1.45),\n",
       " ('F9', 2.13),\n",
       " ('MQ', 2.88),\n",
       " ('WN', 4.25),\n",
       " ('AA', 4.83),\n",
       " ('NW', 5.03),\n",
       " ('ML', 5.25)]"
      ]
     },
     "execution_count": 171,
     "metadata": {},
     "output_type": "execute_result"
    }
   ],
   "source": [
    "rdd = sc.textFile('output1_2')\n",
    "on_time = rdd.map(lambda line: line.split('\\t'))\\\n",
    "             .filter(lambda tuple: len(tuple) == 2)\\\n",
    "             .map(lambda tuple: (tuple[0], float(tuple[1])))\\\n",
    "             .sortBy(lambda x: x[1])\n",
    "on_time.take(10)"
   ]
  },
  {
   "cell_type": "markdown",
   "metadata": {},
   "source": [
    "### Q2.1 For each airport X, rank the top-10 carriers in decreasing order of on-time departure performance from X."
   ]
  },
  {
   "cell_type": "code",
   "execution_count": 135,
   "metadata": {},
   "outputs": [],
   "source": [
    "aprts = ['CMI', 'BWI', 'MIA', 'LAX', 'IAH', 'SFO']"
   ]
  },
  {
   "cell_type": "code",
   "execution_count": 172,
   "metadata": {},
   "outputs": [
    {
     "name": "stdout",
     "output_type": "stream",
     "text": [
      "CMI\n",
      "[('CMI', 'TW', 89.0), ('CMI', 'TW', 62.5), ('CMI', 'US', 53.0), ('CMI', 'PI', 40.0), ('CMI', 'PI', 37.57), ('CMI', 'TW', 32.0), ('CMI', 'PI', 30.0), ('CMI', 'PI', 28.67), ('CMI', 'TW', 28.0), ('CMI', 'PI', 26.0)]\n",
      "BWI\n",
      "[('BWI', 'XE', 318.0), ('BWI', 'XE', 266.0), ('BWI', 'PI', 242.0), ('BWI', 'WN', 236.0), ('BWI', 'DL', 236.0), ('BWI', 'DL', 234.0), ('BWI', 'EA', 231.0), ('BWI', 'XE', 229.0), ('BWI', 'AL', 225.0), ('BWI', 'US', 220.0)]\n",
      "MIA\n",
      "[('MIA', 'FL', 372.0), ('MIA', 'CO', 363.0), ('MIA', 'DL', 351.75), ('MIA', 'DL', 323.0), ('MIA', 'EA', 283.0), ('MIA', 'CO', 263.0), ('MIA', 'DL', 260.0), ('MIA', 'DL', 248.0), ('MIA', 'ML', 230.0), ('MIA', 'ML', 228.0)]\n",
      "LAX\n",
      "[('LAX', 'DL', 455.0), ('LAX', 'UA', 417.0), ('LAX', 'UA', 379.0), ('LAX', 'DL', 373.0), ('LAX', 'AA', 357.0), ('LAX', 'F9', 336.0), ('LAX', 'AS', 304.0), ('LAX', 'CO', 290.5), ('LAX', 'UA', 289.0), ('LAX', 'DL', 268.0)]\n",
      "IAH\n",
      "[('IAH', 'AA', 607.0), ('IAH', 'YV', 415.0), ('IAH', 'TW', 326.0), ('IAH', 'OO', 238.0), ('IAH', 'OO', 220.0), ('IAH', 'DL', 218.0), ('IAH', 'OO', 209.0), ('IAH', 'DL', 209.0), ('IAH', 'UA', 202.0), ('IAH', 'DL', 186.0)]\n",
      "SFO\n",
      "[('SFO', 'AA', 530.0), ('SFO', 'AA', 422.0), ('SFO', 'AA', 286.0), ('SFO', 'AA', 270.0), ('SFO', 'CO', 244.0), ('SFO', 'CO', 223.0), ('SFO', 'AA', 180.0), ('SFO', 'OO', 178.0), ('SFO', 'NW', 178.0), ('SFO', 'UA', 175.67)]\n"
     ]
    }
   ],
   "source": [
    "def get_top_ten_carriers(rdd, aprt):\n",
    "    rdd_aprt = rdd.filter(lambda tuple: tuple[0] == aprt)\\\n",
    "                  .map(lambda tuple: (tuple[0], tuple[1], float(tuple[2])))\\\n",
    "                  .sortBy(lambda x: x[2], False)\n",
    "    return rdd_aprt.take(10)\n",
    "\n",
    "rdd = sc.textFile('output2_1')\n",
    "rdd = rdd.map(lambda line: line.split('\\t')).cache()\n",
    "\n",
    "for aprt in aprts:\n",
    "    print(aprt)\n",
    "    print(get_top_ten_carriers(rdd, aprt))"
   ]
  },
  {
   "cell_type": "markdown",
   "metadata": {},
   "source": [
    "### Q2.2 For each airport X, rank the top-10 airports in decreasing order of on-time departure performance from X."
   ]
  },
  {
   "cell_type": "code",
   "execution_count": 173,
   "metadata": {},
   "outputs": [
    {
     "name": "stdout",
     "output_type": "stream",
     "text": [
      "CMI\n",
      "[('CMI', 'PIA', 89.0), ('CMI', 'STL', 76.0), ('CMI', 'STL', 62.5), ('CMI', 'STL', 50.0), ('CMI', 'DAY', 40.0), ('CMI', 'DAY', 37.57), ('CMI', 'PIA', 32.0), ('CMI', 'STL', 30.0), ('CMI', 'DAY', 30.0), ('CMI', 'DAY', 28.67)]\n",
      "BWI\n",
      "[('BWI', 'ORH', 760.0), ('BWI', 'ISP', 755.0), ('BWI', 'ORD', 510.0), ('BWI', 'CHS', 480.0), ('BWI', 'ORH', 440.0), ('BWI', 'ORH', 380.5), ('BWI', 'LAS', 374.0), ('BWI', 'IAH', 360.0), ('BWI', 'ALB', 358.0), ('BWI', 'CLE', 337.0)]\n",
      "MIA\n",
      "[('MIA', 'JFK', 426.0), ('MIA', 'EWR', 363.0), ('MIA', 'EWR', 359.0), ('MIA', 'FLL', 351.75), ('MIA', 'JFK', 334.0), ('MIA', 'JFK', 333.0), ('MIA', 'JFK', 323.0), ('MIA', 'JFK', 302.0), ('MIA', 'DCA', 283.0), ('MIA', 'LGA', 269.0)]\n",
      "LAX\n",
      "[('LAX', 'IAH', 589.0), ('LAX', 'BOS', 466.0), ('LAX', 'KOA', 455.0), ('LAX', 'ORD', 417.0), ('LAX', 'BOS', 379.0), ('LAX', 'TPA', 379.0), ('LAX', 'SLC', 373.0), ('LAX', 'HNL', 357.0), ('LAX', 'OGG', 349.0), ('LAX', 'DEN', 336.0)]\n",
      "IAH\n",
      "[('IAH', 'DFW', 607.0), ('IAH', 'SAN', 433.0), ('IAH', 'CLT', 415.0), ('IAH', 'EWR', 410.0), ('IAH', 'ORF', 395.0), ('IAH', 'CMH', 391.0), ('IAH', 'SAT', 383.0), ('IAH', 'BNA', 367.0), ('IAH', 'JFK', 363.0), ('IAH', 'LEX', 362.0)]\n",
      "SFO\n",
      "[('SFO', 'SMF', 720.0), ('SFO', 'STL', 530.0), ('SFO', 'ORD', 422.0), ('SFO', 'AUS', 379.0), ('SFO', 'SLC', 325.0), ('SFO', 'MIA', 315.0), ('SFO', 'ORD', 286.0), ('SFO', 'PSP', 280.0), ('SFO', 'EWR', 277.0), ('SFO', 'DFW', 270.0)]\n"
     ]
    }
   ],
   "source": [
    "def get_top_ten_aprts(rdd, aprt):\n",
    "    rdd_aprt = rdd.filter(lambda tuple: tuple[0] == aprt)\\\n",
    "                  .map(lambda tuple: (tuple[0], tuple[1], float(tuple[2])))\\\n",
    "                  .sortBy(lambda x: x[2], False)\n",
    "    return rdd_aprt.take(10)\n",
    "\n",
    "rdd = sc.textFile('output2_2')\n",
    "rdd = rdd.map(lambda line: line.split('\\t')).cache()\n",
    "\n",
    "for aprt in aprts:\n",
    "    print(aprt)\n",
    "    print(get_top_ten_aprts(rdd, aprt))"
   ]
  },
  {
   "cell_type": "markdown",
   "metadata": {},
   "source": [
    "### Q2.3 For each source-destination pair X-Y, rank the top-10 carriers in decreasing order of on-time arrival performance at Y from X."
   ]
  },
  {
   "cell_type": "code",
   "execution_count": 138,
   "metadata": {},
   "outputs": [],
   "source": [
    "ODs = [('CMI', 'ORD'), ('IND', 'CMH'), ('DFW', 'IAH'), ('LAX', 'SFO'), ('JFK', 'LAX'), ('ATL', 'PHX')]"
   ]
  },
  {
   "cell_type": "code",
   "execution_count": 141,
   "metadata": {},
   "outputs": [
    {
     "name": "stdout",
     "output_type": "stream",
     "text": [
      "('CMI', 'ORD')\n",
      "[]\n",
      "('IND', 'CMH')\n",
      "[]\n",
      "('DFW', 'IAH')\n",
      "[]\n",
      "('LAX', 'SFO')\n",
      "[]\n",
      "('JFK', 'LAX')\n",
      "[]\n",
      "('ATL', 'PHX')\n",
      "[]\n"
     ]
    }
   ],
   "source": [
    "def get_od_top_ten_carriers(rdd, aprt, dest):\n",
    "    rdd_aprt = rdd.filter(lambda tuple: tuple[0] == aprt and tuple[1] == dest)\\\n",
    "                  .map(lambda tuple: (tuple[0], tuple[1], tuple[2], float(tuple[3])))\\\n",
    "                  .sortBy(lambda x: x[3], False)\n",
    "    return rdd_aprt.take(10)\n",
    "\n",
    "rdd = sc.textFile('output2_3')\n",
    "rdd = rdd.map(lambda line: line.split('\\t')).cache()\n",
    "\n",
    "for od in ODs:\n",
    "    print(od)\n",
    "    print(get_od_top_ten_carriers(rdd, od[0], od[1]))"
   ]
  },
  {
   "cell_type": "markdown",
   "metadata": {},
   "source": [
    "### Q3.2"
   ]
  },
  {
   "cell_type": "code",
   "execution_count": null,
   "metadata": {},
   "outputs": [],
   "source": [
    "lists = [('CMI', 'ORD', 'LAX', '04/03/2008'), \n",
    "         ('JAX', 'DFW', 'CRP', '09/09/2008'), \n",
    "         ('SLC', 'BFL', 'LAX', '01/04/2008'), \n",
    "         ('LAX', 'SFO', 'PHX', '12/07/2008'),\n",
    "         ('DFW', 'ORD', 'DFW', '10/06/2008'),\n",
    "         ('LAX', 'ORD', 'JFK', '01/01/2008')]"
   ]
  },
  {
   "cell_type": "code",
   "execution_count": 164,
   "metadata": {},
   "outputs": [
    {
     "ename": "ValueError",
     "evalue": "RDD is empty",
     "output_type": "error",
     "traceback": [
      "\u001b[0;31m---------------------------------------------------------------------------\u001b[0m",
      "\u001b[0;31mValueError\u001b[0m                                Traceback (most recent call last)",
      "\u001b[0;32m<ipython-input-164-a8bffe709f8e>\u001b[0m in \u001b[0;36m<module>\u001b[0;34m\u001b[0m\n\u001b[1;32m      7\u001b[0m \u001b[0mrdd\u001b[0m \u001b[0;34m=\u001b[0m \u001b[0msc\u001b[0m\u001b[0;34m.\u001b[0m\u001b[0mtextFile\u001b[0m\u001b[0;34m(\u001b[0m\u001b[0;34m'res3_2'\u001b[0m\u001b[0;34m)\u001b[0m\u001b[0;34m\u001b[0m\u001b[0;34m\u001b[0m\u001b[0m\n\u001b[1;32m      8\u001b[0m \u001b[0mrdd\u001b[0m \u001b[0;34m=\u001b[0m \u001b[0mrdd\u001b[0m\u001b[0;34m.\u001b[0m\u001b[0mmap\u001b[0m\u001b[0;34m(\u001b[0m\u001b[0;32mlambda\u001b[0m \u001b[0mline\u001b[0m\u001b[0;34m:\u001b[0m \u001b[0mline\u001b[0m\u001b[0;34m.\u001b[0m\u001b[0msplit\u001b[0m\u001b[0;34m(\u001b[0m\u001b[0;34m'\\t'\u001b[0m\u001b[0;34m)\u001b[0m\u001b[0;34m)\u001b[0m\u001b[0;34m.\u001b[0m\u001b[0mcache\u001b[0m\u001b[0;34m(\u001b[0m\u001b[0;34m)\u001b[0m\u001b[0;34m\u001b[0m\u001b[0;34m\u001b[0m\u001b[0m\n\u001b[0;32m----> 9\u001b[0;31m \u001b[0mprint\u001b[0m\u001b[0;34m(\u001b[0m\u001b[0mget_best_flight\u001b[0m\u001b[0;34m(\u001b[0m\u001b[0mrdd\u001b[0m\u001b[0;34m,\u001b[0m \u001b[0;34m'SLC'\u001b[0m\u001b[0;34m,\u001b[0m \u001b[0;34m'BFL'\u001b[0m\u001b[0;34m,\u001b[0m \u001b[0;34m'2008-01-04'\u001b[0m\u001b[0;34m,\u001b[0m \u001b[0;34m'AM'\u001b[0m\u001b[0;34m)\u001b[0m\u001b[0;34m)\u001b[0m\u001b[0;34m\u001b[0m\u001b[0;34m\u001b[0m\u001b[0m\n\u001b[0m\u001b[1;32m     10\u001b[0m \u001b[0mprint\u001b[0m\u001b[0;34m(\u001b[0m\u001b[0mget_best_flight\u001b[0m\u001b[0;34m(\u001b[0m\u001b[0mrdd\u001b[0m\u001b[0;34m,\u001b[0m \u001b[0;34m'BFL'\u001b[0m\u001b[0;34m,\u001b[0m \u001b[0;34m'JFK'\u001b[0m\u001b[0;34m,\u001b[0m \u001b[0;34m'2008-01-06'\u001b[0m\u001b[0;34m,\u001b[0m \u001b[0;34m'PM'\u001b[0m\u001b[0;34m)\u001b[0m\u001b[0;34m)\u001b[0m\u001b[0;34m\u001b[0m\u001b[0;34m\u001b[0m\u001b[0m\n",
      "\u001b[0;32m<ipython-input-164-a8bffe709f8e>\u001b[0m in \u001b[0;36mget_best_flight\u001b[0;34m(rdd, origin, dest, date, am_or_pm)\u001b[0m\n\u001b[1;32m      2\u001b[0m     rdd = rdd.filter(\n\u001b[1;32m      3\u001b[0m         lambda tuple: tuple[0] == origin and tuple[1] == dest and tuple[2] == date and tuple[3] == am_or_pm)\n\u001b[0;32m----> 4\u001b[0;31m     \u001b[0mvalues\u001b[0m \u001b[0;34m=\u001b[0m \u001b[0mrdd\u001b[0m\u001b[0;34m.\u001b[0m\u001b[0mfirst\u001b[0m\u001b[0;34m(\u001b[0m\u001b[0;34m)\u001b[0m\u001b[0;34m\u001b[0m\u001b[0;34m\u001b[0m\u001b[0m\n\u001b[0m\u001b[1;32m      5\u001b[0m     \u001b[0;32mreturn\u001b[0m \u001b[0;34m\"carrier %s flight number %s depart at %s delay is %s\"\u001b[0m \u001b[0;34m%\u001b[0m \u001b[0mtuple\u001b[0m\u001b[0;34m(\u001b[0m\u001b[0mvalues\u001b[0m\u001b[0;34m[\u001b[0m\u001b[0;36m4\u001b[0m\u001b[0;34m:\u001b[0m\u001b[0;34m]\u001b[0m\u001b[0;34m)\u001b[0m\u001b[0;34m\u001b[0m\u001b[0;34m\u001b[0m\u001b[0m\n\u001b[1;32m      6\u001b[0m \u001b[0;34m\u001b[0m\u001b[0m\n",
      "\u001b[0;32m/opt/spark/python/pyspark/rdd.py\u001b[0m in \u001b[0;36mfirst\u001b[0;34m(self)\u001b[0m\n\u001b[1;32m   1379\u001b[0m         \u001b[0;32mif\u001b[0m \u001b[0mrs\u001b[0m\u001b[0;34m:\u001b[0m\u001b[0;34m\u001b[0m\u001b[0;34m\u001b[0m\u001b[0m\n\u001b[1;32m   1380\u001b[0m             \u001b[0;32mreturn\u001b[0m \u001b[0mrs\u001b[0m\u001b[0;34m[\u001b[0m\u001b[0;36m0\u001b[0m\u001b[0;34m]\u001b[0m\u001b[0;34m\u001b[0m\u001b[0;34m\u001b[0m\u001b[0m\n\u001b[0;32m-> 1381\u001b[0;31m         \u001b[0;32mraise\u001b[0m \u001b[0mValueError\u001b[0m\u001b[0;34m(\u001b[0m\u001b[0;34m\"RDD is empty\"\u001b[0m\u001b[0;34m)\u001b[0m\u001b[0;34m\u001b[0m\u001b[0;34m\u001b[0m\u001b[0m\n\u001b[0m\u001b[1;32m   1382\u001b[0m \u001b[0;34m\u001b[0m\u001b[0m\n\u001b[1;32m   1383\u001b[0m     \u001b[0;32mdef\u001b[0m \u001b[0misEmpty\u001b[0m\u001b[0;34m(\u001b[0m\u001b[0mself\u001b[0m\u001b[0;34m)\u001b[0m\u001b[0;34m:\u001b[0m\u001b[0;34m\u001b[0m\u001b[0;34m\u001b[0m\u001b[0m\n",
      "\u001b[0;31mValueError\u001b[0m: RDD is empty"
     ]
    }
   ],
   "source": [
    "def get_best_flight(rdd, origin, dest, date, am_or_pm):\n",
    "    rdd = rdd.filter(\n",
    "        lambda tuple: tuple[0] == origin and tuple[1] == dest and tuple[2] == date and tuple[3] == am_or_pm)\n",
    "    values = rdd.first()\n",
    "    return \"carrier %s flight number %s depart at %s delay is %s\" % tuple(values[4:])\n",
    "\n",
    "rdd = sc.textFile('res3_2')\n",
    "rdd = rdd.map(lambda line: line.split('\\t')).cache()\n",
    "\n",
    "for val in lists:\n",
    "    # convert format\n",
    "    year, month, day = val[3].split(\"-\")\n",
    "    # add two days\n",
    "    yz_date = xy_date + timedelta(days=2)\n",
    "    print(get_best_flight(rdd, val[0], val[1], xy_date, 'AM'))\n",
    "    print(get_best_flight(rdd, val[1], val[2], yz_date, 'PM'))"
   ]
  },
  {
   "cell_type": "code",
   "execution_count": null,
   "metadata": {},
   "outputs": [],
   "source": []
  },
  {
   "cell_type": "code",
   "execution_count": null,
   "metadata": {},
   "outputs": [],
   "source": []
  }
 ],
 "metadata": {
  "kernelspec": {
   "display_name": "Python 3",
   "language": "python",
   "name": "python3"
  },
  "language_info": {
   "codemirror_mode": {
    "name": "ipython",
    "version": 3
   },
   "file_extension": ".py",
   "mimetype": "text/x-python",
   "name": "python",
   "nbconvert_exporter": "python",
   "pygments_lexer": "ipython3",
   "version": "3.7.3"
  }
 },
 "nbformat": 4,
 "nbformat_minor": 2
}
