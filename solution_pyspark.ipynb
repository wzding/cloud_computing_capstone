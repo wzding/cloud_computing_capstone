{
 "cells": [
  {
   "cell_type": "code",
   "execution_count": 1,
   "metadata": {},
   "outputs": [],
   "source": [
    "from __future__ import print_function\n",
    "import sys\n",
    "import pandas as pd\n",
    "from pyspark import SparkContext"
   ]
  },
  {
   "cell_type": "markdown",
   "metadata": {},
   "source": [
    "### Q1.1 Rank the top 10 most popular airports by numbers of flights to/from the airport."
   ]
  },
  {
   "cell_type": "code",
   "execution_count": 170,
   "metadata": {},
   "outputs": [
    {
     "data": {
      "text/plain": [
       "[('ORD', 1542558),\n",
       " ('ATL', 1354423),\n",
       " ('DFW', 1276289),\n",
       " ('LAX', 945067),\n",
       " ('DEN', 863771),\n",
       " ('PHX', 753450),\n",
       " ('SFO', 723727),\n",
       " ('STL', 693935),\n",
       " ('EWR', 672607),\n",
       " ('DTW', 668154)]"
      ]
     },
     "execution_count": 170,
     "metadata": {},
     "output_type": "execute_result"
    }
   ],
   "source": [
    "file = sc.textFile('output1_1')\n",
    "popular = file.map(lambda line: line.split('\\t'))\\\n",
    "             .filter(lambda tuple: len(tuple) == 2)\\\n",
    "             .map(lambda tuple: (tuple[0], int(tuple[1]))).sortBy(lambda x: x[1], False)\n",
    "popular.take(10)"
   ]
  },
  {
   "cell_type": "markdown",
   "metadata": {},
   "source": [
    "### Q1.2 Rank the top 10 airlines by on-time arrival performance."
   ]
  },
  {
   "cell_type": "code",
   "execution_count": 171,
   "metadata": {},
   "outputs": [
    {
     "data": {
      "text/plain": [
       "[('9E', -3.99),\n",
       " ('OO', 0.8),\n",
       " ('HA', 1.04),\n",
       " ('PS', 1.45),\n",
       " ('F9', 2.13),\n",
       " ('MQ', 2.88),\n",
       " ('WN', 4.25),\n",
       " ('AA', 4.83),\n",
       " ('NW', 5.03),\n",
       " ('ML', 5.25)]"
      ]
     },
     "execution_count": 171,
     "metadata": {},
     "output_type": "execute_result"
    }
   ],
   "source": [
    "rdd = sc.textFile('output1_2')\n",
    "on_time = rdd.map(lambda line: line.split('\\t'))\\\n",
    "             .filter(lambda tuple: len(tuple) == 2)\\\n",
    "             .map(lambda tuple: (tuple[0], float(tuple[1])))\\\n",
    "             .sortBy(lambda x: x[1])\n",
    "on_time.take(10)"
   ]
  },
  {
   "cell_type": "markdown",
   "metadata": {},
   "source": [
    "### Q2.1 For each airport X, rank the top-10 carriers in decreasing order of on-time departure performance from X."
   ]
  },
  {
   "cell_type": "code",
   "execution_count": 135,
   "metadata": {},
   "outputs": [],
   "source": [
    "aprts = ['CMI', 'BWI', 'MIA', 'LAX', 'IAH', 'SFO']"
   ]
  },
  {
   "cell_type": "code",
   "execution_count": 172,
   "metadata": {},
   "outputs": [
    {
     "name": "stdout",
     "output_type": "stream",
     "text": [
      "CMI\n",
      "[('CMI', 'TW', 89.0), ('CMI', 'TW', 62.5), ('CMI', 'US', 53.0), ('CMI', 'PI', 40.0), ('CMI', 'PI', 37.57), ('CMI', 'TW', 32.0), ('CMI', 'PI', 30.0), ('CMI', 'PI', 28.67), ('CMI', 'TW', 28.0), ('CMI', 'PI', 26.0)]\n",
      "BWI\n",
      "[('BWI', 'XE', 318.0), ('BWI', 'XE', 266.0), ('BWI', 'PI', 242.0), ('BWI', 'WN', 236.0), ('BWI', 'DL', 236.0), ('BWI', 'DL', 234.0), ('BWI', 'EA', 231.0), ('BWI', 'XE', 229.0), ('BWI', 'AL', 225.0), ('BWI', 'US', 220.0)]\n",
      "MIA\n",
      "[('MIA', 'FL', 372.0), ('MIA', 'CO', 363.0), ('MIA', 'DL', 351.75), ('MIA', 'DL', 323.0), ('MIA', 'EA', 283.0), ('MIA', 'CO', 263.0), ('MIA', 'DL', 260.0), ('MIA', 'DL', 248.0), ('MIA', 'ML', 230.0), ('MIA', 'ML', 228.0)]\n",
      "LAX\n",
      "[('LAX', 'DL', 455.0), ('LAX', 'UA', 417.0), ('LAX', 'UA', 379.0), ('LAX', 'DL', 373.0), ('LAX', 'AA', 357.0), ('LAX', 'F9', 336.0), ('LAX', 'AS', 304.0), ('LAX', 'CO', 290.5), ('LAX', 'UA', 289.0), ('LAX', 'DL', 268.0)]\n",
      "IAH\n",
      "[('IAH', 'AA', 607.0), ('IAH', 'YV', 415.0), ('IAH', 'TW', 326.0), ('IAH', 'OO', 238.0), ('IAH', 'OO', 220.0), ('IAH', 'DL', 218.0), ('IAH', 'OO', 209.0), ('IAH', 'DL', 209.0), ('IAH', 'UA', 202.0), ('IAH', 'DL', 186.0)]\n",
      "SFO\n",
      "[('SFO', 'AA', 530.0), ('SFO', 'AA', 422.0), ('SFO', 'AA', 286.0), ('SFO', 'AA', 270.0), ('SFO', 'CO', 244.0), ('SFO', 'CO', 223.0), ('SFO', 'AA', 180.0), ('SFO', 'OO', 178.0), ('SFO', 'NW', 178.0), ('SFO', 'UA', 175.67)]\n"
     ]
    }
   ],
   "source": [
    "def get_top_ten_carriers(rdd, aprt):\n",
    "    rdd_aprt = rdd.filter(lambda tuple: tuple[0] == aprt)\\\n",
    "                  .map(lambda tuple: (tuple[0], tuple[1], float(tuple[2])))\\\n",
    "                  .sortBy(lambda x: x[2], False)\n",
    "    return rdd_aprt.take(10)\n",
    "\n",
    "rdd = sc.textFile('output2_1')\n",
    "rdd = rdd.map(lambda line: line.split('\\t')).cache()\n",
    "\n",
    "for aprt in aprts:\n",
    "    print(aprt)\n",
    "    print(get_top_ten_carriers(rdd, aprt))"
   ]
  },
  {
   "cell_type": "markdown",
   "metadata": {},
   "source": [
    "### Q2.2 For each airport X, rank the top-10 airports in decreasing order of on-time departure performance from X."
   ]
  },
  {
   "cell_type": "code",
   "execution_count": 173,
   "metadata": {},
   "outputs": [
    {
     "name": "stdout",
     "output_type": "stream",
     "text": [
      "CMI\n",
      "[('CMI', 'PIA', 89.0), ('CMI', 'STL', 76.0), ('CMI', 'STL', 62.5), ('CMI', 'STL', 50.0), ('CMI', 'DAY', 40.0), ('CMI', 'DAY', 37.57), ('CMI', 'PIA', 32.0), ('CMI', 'STL', 30.0), ('CMI', 'DAY', 30.0), ('CMI', 'DAY', 28.67)]\n",
      "BWI\n",
      "[('BWI', 'ORH', 760.0), ('BWI', 'ISP', 755.0), ('BWI', 'ORD', 510.0), ('BWI', 'CHS', 480.0), ('BWI', 'ORH', 440.0), ('BWI', 'ORH', 380.5), ('BWI', 'LAS', 374.0), ('BWI', 'IAH', 360.0), ('BWI', 'ALB', 358.0), ('BWI', 'CLE', 337.0)]\n",
      "MIA\n",
      "[('MIA', 'JFK', 426.0), ('MIA', 'EWR', 363.0), ('MIA', 'EWR', 359.0), ('MIA', 'FLL', 351.75), ('MIA', 'JFK', 334.0), ('MIA', 'JFK', 333.0), ('MIA', 'JFK', 323.0), ('MIA', 'JFK', 302.0), ('MIA', 'DCA', 283.0), ('MIA', 'LGA', 269.0)]\n",
      "LAX\n",
      "[('LAX', 'IAH', 589.0), ('LAX', 'BOS', 466.0), ('LAX', 'KOA', 455.0), ('LAX', 'ORD', 417.0), ('LAX', 'BOS', 379.0), ('LAX', 'TPA', 379.0), ('LAX', 'SLC', 373.0), ('LAX', 'HNL', 357.0), ('LAX', 'OGG', 349.0), ('LAX', 'DEN', 336.0)]\n",
      "IAH\n",
      "[('IAH', 'DFW', 607.0), ('IAH', 'SAN', 433.0), ('IAH', 'CLT', 415.0), ('IAH', 'EWR', 410.0), ('IAH', 'ORF', 395.0), ('IAH', 'CMH', 391.0), ('IAH', 'SAT', 383.0), ('IAH', 'BNA', 367.0), ('IAH', 'JFK', 363.0), ('IAH', 'LEX', 362.0)]\n",
      "SFO\n",
      "[('SFO', 'SMF', 720.0), ('SFO', 'STL', 530.0), ('SFO', 'ORD', 422.0), ('SFO', 'AUS', 379.0), ('SFO', 'SLC', 325.0), ('SFO', 'MIA', 315.0), ('SFO', 'ORD', 286.0), ('SFO', 'PSP', 280.0), ('SFO', 'EWR', 277.0), ('SFO', 'DFW', 270.0)]\n"
     ]
    }
   ],
   "source": [
    "def get_top_ten_aprts(rdd, aprt):\n",
    "    rdd_aprt = rdd.filter(lambda tuple: tuple[0] == aprt)\\\n",
    "                  .map(lambda tuple: (tuple[0], tuple[1], float(tuple[2])))\\\n",
    "                  .sortBy(lambda x: x[2], False)\n",
    "    return rdd_aprt.take(10)\n",
    "\n",
    "rdd = sc.textFile('output2_2')\n",
    "rdd = rdd.map(lambda line: line.split('\\t')).cache()\n",
    "\n",
    "for aprt in aprts:\n",
    "    print(aprt)\n",
    "    print(get_top_ten_aprts(rdd, aprt))"
   ]
  },
  {
   "cell_type": "markdown",
   "metadata": {},
   "source": [
    "### Q2.3 For each source-destination pair X-Y, rank the top-10 carriers in decreasing order of on-time arrival performance at Y from X."
   ]
  },
  {
   "cell_type": "code",
   "execution_count": 138,
   "metadata": {},
   "outputs": [],
   "source": [
    "ODs = [('CMI', 'ORD'), ('IND', 'CMH'), ('DFW', 'IAH'), ('LAX', 'SFO'), ('JFK', 'LAX'), ('ATL', 'PHX')]"
   ]
  },
  {
   "cell_type": "code",
   "execution_count": 174,
   "metadata": {},
   "outputs": [
    {
     "name": "stdout",
     "output_type": "stream",
     "text": [
      "('CMI', 'ORD')\n",
      "[('CMI', 'ORD', 'MQ', 29.0), ('CMI', 'ORD', 'MQ', 16.69), ('CMI', 'ORD', 'MQ', 14.44), ('CMI', 'ORD', 'MQ', 8.0), ('CMI', 'ORD', 'MQ', 5.47), ('CMI', 'ORD', 'MQ', 4.24), ('CMI', 'ORD', 'MQ', 3.76), ('CMI', 'ORD', 'MQ', -7.09), ('CMI', 'ORD', 'MQ', -8.9), ('CMI', 'ORD', 'MQ', -9.0)]\n",
      "('IND', 'CMH')\n",
      "[('IND', 'CMH', 'EA', 66.5), ('IND', 'CMH', 'US', 63.6), ('IND', 'CMH', 'CO', 63.33), ('IND', 'CMH', 'DL', 54.83), ('IND', 'CMH', 'US', 45.5), ('IND', 'CMH', 'CO', 44.4), ('IND', 'CMH', 'EA', 40.4), ('IND', 'CMH', 'US', 40.0), ('IND', 'CMH', 'US', 38.0), ('IND', 'CMH', 'US', 36.25)]\n",
      "('DFW', 'IAH')\n",
      "[('DFW', 'IAH', 'XE', 328.0), ('DFW', 'IAH', 'CO', 242.0), ('DFW', 'IAH', 'CO', 159.0), ('DFW', 'IAH', 'AA', 150.0), ('DFW', 'IAH', 'AA', 148.5), ('DFW', 'IAH', 'CO', 139.0), ('DFW', 'IAH', 'CO', 136.0), ('DFW', 'IAH', 'CO', 128.0), ('DFW', 'IAH', 'CO', 117.5), ('DFW', 'IAH', 'XE', 112.0)]\n",
      "('LAX', 'SFO')\n",
      "[('LAX', 'SFO', 'UA', 384.0), ('LAX', 'SFO', 'AA', 163.0), ('LAX', 'SFO', 'UA', 154.0), ('LAX', 'SFO', 'UA', 135.0), ('LAX', 'SFO', 'AA', 130.0), ('LAX', 'SFO', 'DL', 130.0), ('LAX', 'SFO', 'TW', 120.0), ('LAX', 'SFO', 'UA', 116.0), ('LAX', 'SFO', 'DL', 116.0), ('LAX', 'SFO', 'AA', 115.0)]\n",
      "('JFK', 'LAX')\n",
      "[('JFK', 'LAX', 'DL', 365.0), ('JFK', 'LAX', 'DL', 311.0), ('JFK', 'LAX', 'PA', 292.0), ('JFK', 'LAX', 'DL', 290.0), ('JFK', 'LAX', 'DL', 263.0), ('JFK', 'LAX', 'PA', 237.0), ('JFK', 'LAX', 'DL', 216.0), ('JFK', 'LAX', 'DL', 208.0), ('JFK', 'LAX', 'DL', 173.0), ('JFK', 'LAX', 'DL', 152.0)]\n",
      "('ATL', 'PHX')\n",
      "[('ATL', 'PHX', 'DL', 160.0), ('ATL', 'PHX', 'FL', 145.0), ('ATL', 'PHX', 'DL', 141.5), ('ATL', 'PHX', 'EA', 124.2), ('ATL', 'PHX', 'DL', 103.0), ('ATL', 'PHX', 'DL', 96.0), ('ATL', 'PHX', 'DL', 94.0), ('ATL', 'PHX', 'DL', 90.0), ('ATL', 'PHX', 'EA', 86.5), ('ATL', 'PHX', 'DL', 86.0)]\n"
     ]
    }
   ],
   "source": [
    "def get_od_top_ten_carriers(rdd, aprt, dest):\n",
    "    rdd_aprt = rdd.filter(lambda tuple: tuple[0] == aprt and tuple[1] == dest)\\\n",
    "                  .map(lambda tuple: (tuple[0], tuple[1], tuple[2], float(tuple[3])))\\\n",
    "                  .sortBy(lambda x: x[3], False)\n",
    "    return rdd_aprt.take(10)\n",
    "\n",
    "rdd = sc.textFile('output2_3')\n",
    "rdd = rdd.map(lambda line: line.split('\\t')).cache()\n",
    "\n",
    "for od in ODs:\n",
    "    print(od)\n",
    "    print(get_od_top_ten_carriers(rdd, od[0], od[1]))"
   ]
  },
  {
   "cell_type": "markdown",
   "metadata": {},
   "source": [
    "### Q3.2"
   ]
  },
  {
   "cell_type": "code",
   "execution_count": 175,
   "metadata": {},
   "outputs": [],
   "source": [
    "from datetime import datetime, timedelta  "
   ]
  },
  {
   "cell_type": "code",
   "execution_count": 195,
   "metadata": {},
   "outputs": [],
   "source": [
    "rdd = sc.textFile('output3_2')\n",
    "rdd = rdd.map(lambda line: line.split('\\t')).cache()\n",
    "\n",
    "lists = [('CMI', 'ORD', 'LAX', '04/03/2008'), \n",
    "         ('JAX', 'DFW', 'CRP', '09/09/2008'), \n",
    "         ('SLC', 'BFL', 'LAX', '01/04/2008'), \n",
    "         ('LAX', 'SFO', 'PHX', '12/07/2008'),\n",
    "         ('DFW', 'ORD', 'DFW', '10/06/2008'),\n",
    "         ('LAX', 'ORD', 'JFK', '01/01/2008')]"
   ]
  },
  {
   "cell_type": "code",
   "execution_count": 202,
   "metadata": {},
   "outputs": [
    {
     "name": "stdout",
     "output_type": "stream",
     "text": [
      "2008-03-04 2008-03-06\n",
      "['CMI', 'ORD', '2008-08-09', 'AM', 'MQ', '4052', '1045', '-12.00']\n",
      "['ORD', 'LAX', '2008-10-07', 'AM', 'AA', '2099', '0700', '1.00']\n",
      "2008-09-09 2008-09-11\n",
      "['JAX', 'DFW', '2008-08-15', 'PM', 'AA', '1865', '1650', '188.00']\n",
      "['DFW', 'CRP', '2008-10-01', 'PM', 'MQ', '3419', '1450', '-15.00']\n",
      "2008-04-01 2008-04-03\n",
      "['SLC', 'BFL', '2008-08-05', 'AM', 'OO', '3747', '1100', '-2.00']\n",
      "['BFL', 'LAX', '2008-08-18', 'AM', 'OO', '5432', '0916', '-8.00']\n",
      "2008-07-12 2008-07-14\n",
      "['LAX', 'SFO', '2008-08-01', 'AM', 'UA', '1167', '0704', '-7.00']\n",
      "['SFO', 'PHX', '2008-08-19', 'AM', 'WN', '1252', '0910', '-23.00']\n",
      "2008-06-10 2008-06-12\n",
      "['DFW', 'ORD', '2008-10-31', 'AM', 'UA', '1104', '0653', '-6.00']\n",
      "['ORD', 'DFW', '2008-10-06', 'PM', 'AA', '2357', '1950', '6.00']\n",
      "2008-01-01 2008-01-03\n",
      "['LAX', 'ORD', '2008-08-31', 'PM', 'UA', '126', '2300', '-7.00']\n",
      "['ORD', 'JFK', '2008-10-20', 'PM', 'B6', '916', '1600', '-17.00']\n"
     ]
    }
   ],
   "source": [
    "def get_best_flight(rdd, origin, dest, date, am_or_pm):\n",
    "    rdd = rdd.filter(\n",
    "        lambda tuple: tuple[0] == origin and tuple[1] == dest)\n",
    "#     rdd = rdd.filter(\n",
    "#         lambda tuple: tuple[0] == origin and tuple[1] == dest and tuple[2] == date and tuple[3] == am_or_pm)\n",
    "    if rdd.count() == 0:\n",
    "        return 'no flight available'\n",
    "    values = rdd.first()\n",
    "    return values\n",
    "#     return \"carrier %s flight number %s depart at %s delay is %s\" % tuple(values[4:])\n",
    "\n",
    "\n",
    "for val in lists:\n",
    "    # convert format\n",
    "    day, month, year = val[3].split(\"/\")\n",
    "    xy_date = year + '-' + month + '-' + day\n",
    "    # add two days\n",
    "    yz_date = (pd.to_datetime(xy_date) + timedelta(days=2)).strftime('%Y-%m-%d')\n",
    "#     print(xy_date, yz_date)\n",
    "    print(get_best_flight(rdd, val[0], val[1], xy_date, 'AM'))\n",
    "    print(get_best_flight(rdd, val[1], val[2], yz_date, 'PM'))"
   ]
  },
  {
   "cell_type": "code",
   "execution_count": null,
   "metadata": {},
   "outputs": [],
   "source": []
  }
 ],
 "metadata": {
  "kernelspec": {
   "display_name": "Python 3",
   "language": "python",
   "name": "python3"
  },
  "language_info": {
   "codemirror_mode": {
    "name": "ipython",
    "version": 3
   },
   "file_extension": ".py",
   "mimetype": "text/x-python",
   "name": "python",
   "nbconvert_exporter": "python",
   "pygments_lexer": "ipython3",
   "version": "3.7.3"
  }
 },
 "nbformat": 4,
 "nbformat_minor": 2
}
